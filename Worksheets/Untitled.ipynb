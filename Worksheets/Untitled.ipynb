{
 "cells": [
  {
   "cell_type": "markdown",
   "id": "cdfb9fe7",
   "metadata": {},
   "source": [
    "To Do: create a worksheet in worksheets repo that handles the python for reading a pdb into a csv"
   ]
  }
 ],
 "metadata": {
  "kernelspec": {
   "display_name": "Python 3",
   "language": "python",
   "name": "python3"
  },
  "language_info": {
   "codemirror_mode": {
    "name": "ipython",
    "version": 3
   },
   "file_extension": ".py",
   "mimetype": "text/x-python",
   "name": "python",
   "nbconvert_exporter": "python",
   "pygments_lexer": "ipython3",
   "version": "3.8.8"
  }
 },
 "nbformat": 4,
 "nbformat_minor": 5
}
